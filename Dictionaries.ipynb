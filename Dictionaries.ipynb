{
 "cells": [
  {
   "cell_type": "code",
   "execution_count": 2,
   "id": "4739f9fa",
   "metadata": {},
   "outputs": [],
   "source": [
    "dict1 = {\"key1\": \"val1\", \"key2\": \"val2\", \"key3\": \"val3\"}"
   ]
  },
  {
   "cell_type": "code",
   "execution_count": 4,
   "id": "c3255dbe",
   "metadata": {},
   "outputs": [
    {
     "data": {
      "text/plain": [
       "{'key1': 'val1', 'key2': 'val2', 'key3': 'val3'}"
      ]
     },
     "execution_count": 4,
     "metadata": {},
     "output_type": "execute_result"
    }
   ],
   "source": [
    "dict1"
   ]
  },
  {
   "cell_type": "code",
   "execution_count": 5,
   "id": "7c829dae",
   "metadata": {},
   "outputs": [
    {
     "data": {
      "text/plain": [
       "'val2'"
      ]
     },
     "execution_count": 5,
     "metadata": {},
     "output_type": "execute_result"
    }
   ],
   "source": [
    "dict1[\"key2\"]"
   ]
  },
  {
   "cell_type": "code",
   "execution_count": 7,
   "id": "df9310c4",
   "metadata": {},
   "outputs": [],
   "source": [
    "dict2 = {\"Germany\": \"I have been here\", \"France\": 2, \"Spain\": True}"
   ]
  },
  {
   "cell_type": "code",
   "execution_count": 8,
   "id": "3ce9d37b",
   "metadata": {},
   "outputs": [
    {
     "data": {
      "text/plain": [
       "{'Germany': 'I have been here', 'France': 2, 'Spain': True}"
      ]
     },
     "execution_count": 8,
     "metadata": {},
     "output_type": "execute_result"
    }
   ],
   "source": [
    "dict2"
   ]
  },
  {
   "cell_type": "code",
   "execution_count": 10,
   "id": "22a848cb",
   "metadata": {},
   "outputs": [
    {
     "data": {
      "text/plain": [
       "'I have been here'"
      ]
     },
     "execution_count": 10,
     "metadata": {},
     "output_type": "execute_result"
    }
   ],
   "source": [
    "dict2[\"Germany\"]"
   ]
  },
  {
   "cell_type": "code",
   "execution_count": 11,
   "id": "7306f375",
   "metadata": {},
   "outputs": [
    {
     "data": {
      "text/plain": [
       "2"
      ]
     },
     "execution_count": 11,
     "metadata": {},
     "output_type": "execute_result"
    }
   ],
   "source": [
    "dict2['France']"
   ]
  },
  {
   "cell_type": "code",
   "execution_count": null,
   "id": "e3228a17",
   "metadata": {},
   "outputs": [],
   "source": []
  }
 ],
 "metadata": {
  "kernelspec": {
   "display_name": "Python 3 (ipykernel)",
   "language": "python",
   "name": "python3"
  },
  "language_info": {
   "codemirror_mode": {
    "name": "ipython",
    "version": 3
   },
   "file_extension": ".py",
   "mimetype": "text/x-python",
   "name": "python",
   "nbconvert_exporter": "python",
   "pygments_lexer": "ipython3",
   "version": "3.9.12"
  }
 },
 "nbformat": 4,
 "nbformat_minor": 5
}
