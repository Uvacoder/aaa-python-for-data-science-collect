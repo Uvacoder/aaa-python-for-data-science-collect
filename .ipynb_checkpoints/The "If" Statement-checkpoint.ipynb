{
 "cells": [
  {
   "cell_type": "code",
   "execution_count": 1,
   "id": "938f616e",
   "metadata": {},
   "outputs": [],
   "source": [
    "# ---- -2 ---- -1 ---- 0 ---- 1 ---- 2"
   ]
  },
  {
   "cell_type": "code",
   "execution_count": 3,
   "id": "86820c90",
   "metadata": {},
   "outputs": [],
   "source": [
    "import numpy as np\n",
    "from numpy.random import randn"
   ]
  },
  {
   "cell_type": "code",
   "execution_count": 4,
   "id": "fb941a59",
   "metadata": {},
   "outputs": [
    {
     "data": {
      "text/plain": [
       "0.8983117633859339"
      ]
     },
     "execution_count": 4,
     "metadata": {},
     "output_type": "execute_result"
    }
   ],
   "source": [
    "randn()"
   ]
  },
  {
   "cell_type": "markdown",
   "id": "b41d4bdd",
   "metadata": {},
   "source": [
    "---"
   ]
  },
  {
   "cell_type": "code",
   "execution_count": 12,
   "id": "1f3925a6",
   "metadata": {},
   "outputs": [
    {
     "name": "stdout",
     "output_type": "stream",
     "text": [
      "0.8492566813209215\n",
      "None\n"
     ]
    }
   ],
   "source": [
    "# ---- -2 ---- -1 ---- 0 ---- 1 ---- 2\n",
    "# if statement\n",
    "answer = None\n",
    "x = randn()\n",
    "\n",
    "if x > 1:\n",
    "    answer = \"Greater than 1\"\n",
    "\n",
    "print(x)\n",
    "print(answer)"
   ]
  },
  {
   "cell_type": "code",
   "execution_count": 19,
   "id": "220cf2ce",
   "metadata": {},
   "outputs": [
    {
     "name": "stdout",
     "output_type": "stream",
     "text": [
      "-0.3386317867095478\n",
      "Less than 1\n"
     ]
    }
   ],
   "source": [
    "# ---- -2 ---- -1 ---- 0 ---- 1 ---- 2\n",
    "# else statement\n",
    "answer = None\n",
    "x = randn()\n",
    "\n",
    "if x > 1:\n",
    "    answer = \"Greater than 1\"\n",
    "else:\n",
    "    answer = \"Less than 1\"\n",
    "\n",
    "print(x)\n",
    "print(answer)"
   ]
  },
  {
   "cell_type": "code",
   "execution_count": 34,
   "id": "bc37830f",
   "metadata": {},
   "outputs": [
    {
     "name": "stdout",
     "output_type": "stream",
     "text": [
      "-0.03151993134246331\n",
      "Between -1 and 1\n"
     ]
    }
   ],
   "source": [
    "# ---- -2 ---- -1 ---- 0 ---- 1 ---- 2\n",
    "# Nested Statements\n",
    "\n",
    "answer = None\n",
    "x = randn()\n",
    "\n",
    "if x > 1:\n",
    "    answer = \"Greater than 1\"\n",
    "else:\n",
    "    if x >= -1:\n",
    "        answer = \"Between -1 and 1\"\n",
    "    else:\n",
    "        answer = \"Less than -1\"\n",
    "\n",
    "print(x)\n",
    "print(answer)"
   ]
  },
  {
   "cell_type": "code",
   "execution_count": null,
   "id": "b850a784",
   "metadata": {},
   "outputs": [],
   "source": [
    "# ---- -2 ---- -1 ---- 0 ---- 1 ---- 2\n",
    "# Chained Statements\n",
    "# elif statement\n",
    "\n",
    "answer = None\n",
    "x = randn()\n",
    "\n",
    "if x > 1:\n",
    "    answer = \"Greater than 1\"\n",
    "elif x < -1:\n",
    "    answer = \"Less than -1\"\n",
    "else:\n",
    "    answer = \"Between -1 and 1\"\n",
    "\n",
    "print(x)\n",
    "print(answer)"
   ]
  }
 ],
 "metadata": {
  "kernelspec": {
   "display_name": "Python 3 (ipykernel)",
   "language": "python",
   "name": "python3"
  },
  "language_info": {
   "codemirror_mode": {
    "name": "ipython",
    "version": 3
   },
   "file_extension": ".py",
   "mimetype": "text/x-python",
   "name": "python",
   "nbconvert_exporter": "python",
   "pygments_lexer": "ipython3",
   "version": "3.9.12"
  }
 },
 "nbformat": 4,
 "nbformat_minor": 5
}
