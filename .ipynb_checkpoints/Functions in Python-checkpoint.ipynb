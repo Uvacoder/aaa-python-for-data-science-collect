{
 "cells": [
  {
   "cell_type": "code",
   "execution_count": 1,
   "id": "9a351fac",
   "metadata": {},
   "outputs": [
    {
     "data": {
      "text/plain": [
       "range(20, 31)"
      ]
     },
     "execution_count": 1,
     "metadata": {},
     "output_type": "execute_result"
    }
   ],
   "source": [
    "range(20, 31)"
   ]
  },
  {
   "cell_type": "code",
   "execution_count": 2,
   "id": "e64bf4d7",
   "metadata": {},
   "outputs": [
    {
     "data": {
      "text/plain": [
       "[20, 21, 22, 23, 24, 25, 26, 27, 28, 29, 30]"
      ]
     },
     "execution_count": 2,
     "metadata": {},
     "output_type": "execute_result"
    }
   ],
   "source": [
    "list(range(20, 31))"
   ]
  },
  {
   "cell_type": "code",
   "execution_count": 3,
   "id": "bc92c272",
   "metadata": {},
   "outputs": [],
   "source": [
    "myListOne = list(range(20, 31))"
   ]
  },
  {
   "cell_type": "code",
   "execution_count": 4,
   "id": "b44f6143",
   "metadata": {},
   "outputs": [
    {
     "data": {
      "text/plain": [
       "[20, 21, 22, 23, 24, 25, 26, 27, 28, 29, 30]"
      ]
     },
     "execution_count": 4,
     "metadata": {},
     "output_type": "execute_result"
    }
   ],
   "source": [
    "myListOne"
   ]
  },
  {
   "cell_type": "code",
   "execution_count": 5,
   "id": "2eadf479",
   "metadata": {},
   "outputs": [
    {
     "name": "stdout",
     "output_type": "stream",
     "text": [
      "[20, 21, 22, 23, 24, 25, 26, 27, 28, 29, 30]\n"
     ]
    }
   ],
   "source": [
    "print(myListOne)"
   ]
  },
  {
   "cell_type": "code",
   "execution_count": 6,
   "id": "a39db470",
   "metadata": {},
   "outputs": [
    {
     "data": {
      "text/plain": [
       "11"
      ]
     },
     "execution_count": 6,
     "metadata": {},
     "output_type": "execute_result"
    }
   ],
   "source": [
    "len(myListOne)"
   ]
  },
  {
   "cell_type": "code",
   "execution_count": 7,
   "id": "22c2510f",
   "metadata": {},
   "outputs": [
    {
     "data": {
      "text/plain": [
       "list"
      ]
     },
     "execution_count": 7,
     "metadata": {},
     "output_type": "execute_result"
    }
   ],
   "source": [
    "type(myListOne)"
   ]
  },
  {
   "cell_type": "code",
   "execution_count": 8,
   "id": "304a55d6",
   "metadata": {},
   "outputs": [
    {
     "data": {
      "text/plain": [
       "30"
      ]
     },
     "execution_count": 8,
     "metadata": {},
     "output_type": "execute_result"
    }
   ],
   "source": [
    "max(myListOne)"
   ]
  },
  {
   "cell_type": "code",
   "execution_count": 9,
   "id": "1c300c95",
   "metadata": {},
   "outputs": [
    {
     "data": {
      "text/plain": [
       "20"
      ]
     },
     "execution_count": 9,
     "metadata": {},
     "output_type": "execute_result"
    }
   ],
   "source": [
    "min(myListOne)"
   ]
  },
  {
   "cell_type": "code",
   "execution_count": 10,
   "id": "ddd6e488",
   "metadata": {},
   "outputs": [
    {
     "data": {
      "text/plain": [
       "235"
      ]
     },
     "execution_count": 10,
     "metadata": {},
     "output_type": "execute_result"
    }
   ],
   "source": [
    "max(11,123,235,123,1)"
   ]
  },
  {
   "cell_type": "code",
   "execution_count": null,
   "id": "16f76c56",
   "metadata": {},
   "outputs": [],
   "source": []
  }
 ],
 "metadata": {
  "kernelspec": {
   "display_name": "Python 3 (ipykernel)",
   "language": "python",
   "name": "python3"
  },
  "language_info": {
   "codemirror_mode": {
    "name": "ipython",
    "version": 3
   },
   "file_extension": ".py",
   "mimetype": "text/x-python",
   "name": "python",
   "nbconvert_exporter": "python",
   "pygments_lexer": "ipython3",
   "version": "3.9.12"
  }
 },
 "nbformat": 4,
 "nbformat_minor": 5
}
