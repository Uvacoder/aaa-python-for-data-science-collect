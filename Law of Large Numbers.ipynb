{
 "cells": [
  {
   "cell_type": "code",
   "execution_count": 1,
   "id": "1b56b376",
   "metadata": {},
   "outputs": [],
   "source": [
    "import numpy as np\n",
    "from numpy.random import randn"
   ]
  },
  {
   "cell_type": "code",
   "execution_count": 2,
   "id": "9dd90e0c",
   "metadata": {},
   "outputs": [
    {
     "data": {
      "text/plain": [
       "0.2680359149182782"
      ]
     },
     "execution_count": 2,
     "metadata": {},
     "output_type": "execute_result"
    }
   ],
   "source": [
    "randn()"
   ]
  },
  {
   "cell_type": "code",
   "execution_count": 35,
   "id": "b9195bd2",
   "metadata": {},
   "outputs": [
    {
     "name": "stdout",
     "output_type": "stream",
     "text": [
      "More than one: 1518\n",
      "Less than -1: 1608\n",
      "Between -1 and 1: 6874\n",
      "---\n",
      "E(X): 68.74\n",
      "Mean with numpy: -0.01641265574645529\n",
      "Mean with numpy rounded: 0\n"
     ]
    }
   ],
   "source": [
    "numbers = []\n",
    "totalSampleAmount = 0\n",
    "moreThanOne = 0\n",
    "lessThanMinusOne = 0\n",
    "betweenMinusOneAndOne = 0\n",
    "\n",
    "for i in range(10000):\n",
    "    generatedNumber = randn()\n",
    "    numbers.append(generatedNumber)\n",
    "    totalSampleAmount += 1\n",
    "    \n",
    "    if generatedNumber > 1:\n",
    "        moreThanOne += 1\n",
    "    elif generatedNumber < -1:\n",
    "        lessThanMinusOne += 1\n",
    "    else:\n",
    "        betweenMinusOneAndOne += 1\n",
    "        \n",
    "print(\"More than one:\", moreThanOne)\n",
    "print(\"Less than -1:\", lessThanMinusOne)\n",
    "print(\"Between -1 and 1:\", betweenMinusOneAndOne)\n",
    "print(\"---\")\n",
    "print(\"E(X):\", betweenMinusOneAndOne / totalSampleAmount * 100)\n",
    "print(\"Mean with numpy:\", np.average(numbers))\n",
    "print(\"Mean with numpy rounded:\", round(np.average(numbers)))"
   ]
  }
 ],
 "metadata": {
  "kernelspec": {
   "display_name": "Python 3 (ipykernel)",
   "language": "python",
   "name": "python3"
  },
  "language_info": {
   "codemirror_mode": {
    "name": "ipython",
    "version": 3
   },
   "file_extension": ".py",
   "mimetype": "text/x-python",
   "name": "python",
   "nbconvert_exporter": "python",
   "pygments_lexer": "ipython3",
   "version": "3.9.12"
  }
 },
 "nbformat": 4,
 "nbformat_minor": 5
}
