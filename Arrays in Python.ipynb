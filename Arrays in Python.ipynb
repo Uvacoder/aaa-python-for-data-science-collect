{
 "cells": [
  {
   "cell_type": "code",
   "execution_count": 1,
   "id": "86f7605a",
   "metadata": {},
   "outputs": [],
   "source": [
    "l = [213, 235, 3434, -34534]"
   ]
  },
  {
   "cell_type": "code",
   "execution_count": 2,
   "id": "0a870d2a",
   "metadata": {},
   "outputs": [
    {
     "data": {
      "text/plain": [
       "[213, 235, 3434, -34534]"
      ]
     },
     "execution_count": 2,
     "metadata": {},
     "output_type": "execute_result"
    }
   ],
   "source": [
    "l"
   ]
  },
  {
   "cell_type": "code",
   "execution_count": 3,
   "id": "d4df7b62",
   "metadata": {},
   "outputs": [],
   "source": [
    "import numpy as np"
   ]
  },
  {
   "cell_type": "code",
   "execution_count": 4,
   "id": "caf396f9",
   "metadata": {},
   "outputs": [],
   "source": [
    "a = np.array(l)"
   ]
  },
  {
   "cell_type": "code",
   "execution_count": 5,
   "id": "d498233e",
   "metadata": {},
   "outputs": [
    {
     "data": {
      "text/plain": [
       "array([   213,    235,   3434, -34534])"
      ]
     },
     "execution_count": 5,
     "metadata": {},
     "output_type": "execute_result"
    }
   ],
   "source": [
    "a"
   ]
  },
  {
   "cell_type": "code",
   "execution_count": 6,
   "id": "0e0fa8c9",
   "metadata": {},
   "outputs": [],
   "source": [
    "b = np.array([12, 235, 234.3, \"True\", \"abc\"])"
   ]
  },
  {
   "cell_type": "code",
   "execution_count": 7,
   "id": "40c29de1",
   "metadata": {},
   "outputs": [
    {
     "data": {
      "text/plain": [
       "array(['12', '235', '234.3', 'True', 'abc'], dtype='<U32')"
      ]
     },
     "execution_count": 7,
     "metadata": {},
     "output_type": "execute_result"
    }
   ],
   "source": [
    "b"
   ]
  },
  {
   "cell_type": "code",
   "execution_count": 8,
   "id": "4b9659c0",
   "metadata": {},
   "outputs": [
    {
     "data": {
      "text/plain": [
       "-34534"
      ]
     },
     "execution_count": 8,
     "metadata": {},
     "output_type": "execute_result"
    }
   ],
   "source": [
    "l.pop()"
   ]
  },
  {
   "cell_type": "code",
   "execution_count": 9,
   "id": "35306f67",
   "metadata": {},
   "outputs": [
    {
     "data": {
      "text/plain": [
       "[213, 235, 3434]"
      ]
     },
     "execution_count": 9,
     "metadata": {},
     "output_type": "execute_result"
    }
   ],
   "source": [
    "l"
   ]
  },
  {
   "cell_type": "code",
   "execution_count": 10,
   "id": "9818f1c2",
   "metadata": {},
   "outputs": [
    {
     "data": {
      "text/plain": [
       "-7663.0"
      ]
     },
     "execution_count": 10,
     "metadata": {},
     "output_type": "execute_result"
    }
   ],
   "source": [
    "a.mean()"
   ]
  },
  {
   "cell_type": "code",
   "execution_count": 11,
   "id": "50c4d68e",
   "metadata": {},
   "outputs": [],
   "source": [
    "c = np.array([12, 23, True])"
   ]
  },
  {
   "cell_type": "code",
   "execution_count": 12,
   "id": "f7a166bb",
   "metadata": {},
   "outputs": [
    {
     "data": {
      "text/plain": [
       "array([12, 23,  1])"
      ]
     },
     "execution_count": 12,
     "metadata": {},
     "output_type": "execute_result"
    }
   ],
   "source": [
    "c"
   ]
  },
  {
   "cell_type": "code",
   "execution_count": 13,
   "id": "6102b81f",
   "metadata": {},
   "outputs": [],
   "source": [
    "d = np.array([12,345,36,\"1\"])"
   ]
  },
  {
   "cell_type": "code",
   "execution_count": 14,
   "id": "007917b6",
   "metadata": {},
   "outputs": [
    {
     "data": {
      "text/plain": [
       "array(['12', '345', '36', '1'], dtype='<U21')"
      ]
     },
     "execution_count": 14,
     "metadata": {},
     "output_type": "execute_result"
    }
   ],
   "source": [
    "d"
   ]
  },
  {
   "cell_type": "markdown",
   "id": "7784dd62",
   "metadata": {},
   "source": [
    "---"
   ]
  },
  {
   "cell_type": "code",
   "execution_count": 15,
   "id": "cbc5a524",
   "metadata": {},
   "outputs": [
    {
     "data": {
      "text/plain": [
       "array(['345', '36', '1'], dtype='<U21')"
      ]
     },
     "execution_count": 15,
     "metadata": {},
     "output_type": "execute_result"
    }
   ],
   "source": [
    "d[1:]"
   ]
  },
  {
   "cell_type": "code",
   "execution_count": 16,
   "id": "aa5a96fd",
   "metadata": {},
   "outputs": [],
   "source": [
    "e = [123,345,4574,21]"
   ]
  },
  {
   "cell_type": "code",
   "execution_count": 17,
   "id": "e60cefbb",
   "metadata": {},
   "outputs": [],
   "source": [
    "f = e[0]"
   ]
  },
  {
   "cell_type": "code",
   "execution_count": 18,
   "id": "9424933a",
   "metadata": {},
   "outputs": [
    {
     "data": {
      "text/plain": [
       "[123, 345, 4574, 21]"
      ]
     },
     "execution_count": 18,
     "metadata": {},
     "output_type": "execute_result"
    }
   ],
   "source": [
    "e"
   ]
  },
  {
   "cell_type": "code",
   "execution_count": 19,
   "id": "0234bea6",
   "metadata": {},
   "outputs": [
    {
     "data": {
      "text/plain": [
       "123"
      ]
     },
     "execution_count": 19,
     "metadata": {},
     "output_type": "execute_result"
    }
   ],
   "source": [
    "f"
   ]
  },
  {
   "cell_type": "code",
   "execution_count": 20,
   "id": "eae5a97e",
   "metadata": {},
   "outputs": [],
   "source": [
    "e[0] = 9"
   ]
  },
  {
   "cell_type": "code",
   "execution_count": 21,
   "id": "d2b76280",
   "metadata": {},
   "outputs": [
    {
     "data": {
      "text/plain": [
       "[9, 345, 4574, 21]"
      ]
     },
     "execution_count": 21,
     "metadata": {},
     "output_type": "execute_result"
    }
   ],
   "source": [
    "e"
   ]
  },
  {
   "cell_type": "code",
   "execution_count": 22,
   "id": "847e9b66",
   "metadata": {},
   "outputs": [
    {
     "data": {
      "text/plain": [
       "123"
      ]
     },
     "execution_count": 22,
     "metadata": {},
     "output_type": "execute_result"
    }
   ],
   "source": [
    "f"
   ]
  },
  {
   "cell_type": "code",
   "execution_count": 23,
   "id": "94836522",
   "metadata": {},
   "outputs": [],
   "source": [
    "f = e[1:2]"
   ]
  },
  {
   "cell_type": "code",
   "execution_count": 24,
   "id": "8c54cd60",
   "metadata": {},
   "outputs": [
    {
     "data": {
      "text/plain": [
       "[345]"
      ]
     },
     "execution_count": 24,
     "metadata": {},
     "output_type": "execute_result"
    }
   ],
   "source": [
    "f"
   ]
  },
  {
   "cell_type": "code",
   "execution_count": 25,
   "id": "0989025a",
   "metadata": {},
   "outputs": [
    {
     "data": {
      "text/plain": [
       "[9, 345, 4574, 21]"
      ]
     },
     "execution_count": 25,
     "metadata": {},
     "output_type": "execute_result"
    }
   ],
   "source": [
    "e"
   ]
  },
  {
   "cell_type": "code",
   "execution_count": 27,
   "id": "ac7de23f",
   "metadata": {},
   "outputs": [],
   "source": [
    "e[1] = 55"
   ]
  },
  {
   "cell_type": "code",
   "execution_count": 28,
   "id": "030d649e",
   "metadata": {},
   "outputs": [
    {
     "data": {
      "text/plain": [
       "[9, 55, 4574, 21]"
      ]
     },
     "execution_count": 28,
     "metadata": {},
     "output_type": "execute_result"
    }
   ],
   "source": [
    "e"
   ]
  },
  {
   "cell_type": "code",
   "execution_count": 29,
   "id": "616edcdd",
   "metadata": {},
   "outputs": [
    {
     "data": {
      "text/plain": [
       "[345]"
      ]
     },
     "execution_count": 29,
     "metadata": {},
     "output_type": "execute_result"
    }
   ],
   "source": [
    "f"
   ]
  },
  {
   "cell_type": "code",
   "execution_count": 30,
   "id": "679c3c3b",
   "metadata": {},
   "outputs": [],
   "source": [
    "f[0] = 77"
   ]
  },
  {
   "cell_type": "code",
   "execution_count": 31,
   "id": "14a7b85f",
   "metadata": {},
   "outputs": [
    {
     "data": {
      "text/plain": [
       "[9, 55, 4574, 21]"
      ]
     },
     "execution_count": 31,
     "metadata": {},
     "output_type": "execute_result"
    }
   ],
   "source": [
    "e"
   ]
  },
  {
   "cell_type": "code",
   "execution_count": 32,
   "id": "8c844f54",
   "metadata": {},
   "outputs": [
    {
     "data": {
      "text/plain": [
       "[77]"
      ]
     },
     "execution_count": 32,
     "metadata": {},
     "output_type": "execute_result"
    }
   ],
   "source": [
    "f"
   ]
  },
  {
   "cell_type": "markdown",
   "id": "17cd13e8",
   "metadata": {},
   "source": [
    "---"
   ]
  },
  {
   "cell_type": "code",
   "execution_count": 33,
   "id": "2ef0fe2a",
   "metadata": {},
   "outputs": [],
   "source": [
    "h = np.array([234,236,13,6787,234,454,3453,55,6,79,679,23,42,1])"
   ]
  },
  {
   "cell_type": "code",
   "execution_count": 34,
   "id": "7d59b320",
   "metadata": {},
   "outputs": [
    {
     "data": {
      "text/plain": [
       "array([ 234,  236,   13, 6787,  234,  454, 3453,   55,    6,   79,  679,\n",
       "         23,   42,    1])"
      ]
     },
     "execution_count": 34,
     "metadata": {},
     "output_type": "execute_result"
    }
   ],
   "source": [
    "h"
   ]
  },
  {
   "cell_type": "code",
   "execution_count": 35,
   "id": "ca5fc0a9",
   "metadata": {},
   "outputs": [],
   "source": [
    "r = h[5:9]"
   ]
  },
  {
   "cell_type": "code",
   "execution_count": 36,
   "id": "47b7c81e",
   "metadata": {},
   "outputs": [
    {
     "data": {
      "text/plain": [
       "array([ 454, 3453,   55,    6])"
      ]
     },
     "execution_count": 36,
     "metadata": {},
     "output_type": "execute_result"
    }
   ],
   "source": [
    "r"
   ]
  },
  {
   "cell_type": "code",
   "execution_count": 37,
   "id": "8a2cd56f",
   "metadata": {},
   "outputs": [],
   "source": [
    "r[2] = 20"
   ]
  },
  {
   "cell_type": "code",
   "execution_count": 38,
   "id": "82065714",
   "metadata": {},
   "outputs": [
    {
     "data": {
      "text/plain": [
       "array([ 454, 3453,   20,    6])"
      ]
     },
     "execution_count": 38,
     "metadata": {},
     "output_type": "execute_result"
    }
   ],
   "source": [
    "r"
   ]
  },
  {
   "cell_type": "code",
   "execution_count": 39,
   "id": "9c576330",
   "metadata": {},
   "outputs": [
    {
     "data": {
      "text/plain": [
       "array([ 234,  236,   13, 6787,  234,  454, 3453,   20,    6,   79,  679,\n",
       "         23,   42,    1])"
      ]
     },
     "execution_count": 39,
     "metadata": {},
     "output_type": "execute_result"
    }
   ],
   "source": [
    "h"
   ]
  },
  {
   "cell_type": "code",
   "execution_count": 40,
   "id": "c8614579",
   "metadata": {},
   "outputs": [],
   "source": [
    "j = h.copy()"
   ]
  },
  {
   "cell_type": "code",
   "execution_count": 41,
   "id": "b8ba0a43",
   "metadata": {},
   "outputs": [
    {
     "data": {
      "text/plain": [
       "array([ 234,  236,   13, 6787,  234,  454, 3453,   20,    6,   79,  679,\n",
       "         23,   42,    1])"
      ]
     },
     "execution_count": 41,
     "metadata": {},
     "output_type": "execute_result"
    }
   ],
   "source": [
    "j"
   ]
  },
  {
   "cell_type": "code",
   "execution_count": 42,
   "id": "e998b914",
   "metadata": {},
   "outputs": [],
   "source": [
    "j[0] = 0"
   ]
  },
  {
   "cell_type": "code",
   "execution_count": 43,
   "id": "0dd6ab61",
   "metadata": {},
   "outputs": [
    {
     "data": {
      "text/plain": [
       "array([ 234,  236,   13, 6787,  234,  454, 3453,   20,    6,   79,  679,\n",
       "         23,   42,    1])"
      ]
     },
     "execution_count": 43,
     "metadata": {},
     "output_type": "execute_result"
    }
   ],
   "source": [
    "h"
   ]
  },
  {
   "cell_type": "code",
   "execution_count": 44,
   "id": "2c47b3d1",
   "metadata": {},
   "outputs": [
    {
     "data": {
      "text/plain": [
       "array([   0,  236,   13, 6787,  234,  454, 3453,   20,    6,   79,  679,\n",
       "         23,   42,    1])"
      ]
     },
     "execution_count": 44,
     "metadata": {},
     "output_type": "execute_result"
    }
   ],
   "source": [
    "j"
   ]
  },
  {
   "cell_type": "code",
   "execution_count": null,
   "id": "3d4eb531",
   "metadata": {},
   "outputs": [],
   "source": []
  }
 ],
 "metadata": {
  "kernelspec": {
   "display_name": "Python 3 (ipykernel)",
   "language": "python",
   "name": "python3"
  },
  "language_info": {
   "codemirror_mode": {
    "name": "ipython",
    "version": 3
   },
   "file_extension": ".py",
   "mimetype": "text/x-python",
   "name": "python",
   "nbconvert_exporter": "python",
   "pygments_lexer": "ipython3",
   "version": "3.9.12"
  }
 },
 "nbformat": 4,
 "nbformat_minor": 5
}
